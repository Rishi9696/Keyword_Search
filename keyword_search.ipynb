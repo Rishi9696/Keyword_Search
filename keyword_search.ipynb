{
 "cells": [
  {
   "cell_type": "code",
   "execution_count": null,
   "id": "fa24c322",
   "metadata": {},
   "outputs": [
    {
     "name": "stdout",
     "output_type": "stream",
     "text": [
      "Weaviate Key: 76320a90-53d8-42bc-b41d-678647c6672e\n",
      "Cohere Key: your_cohere_key_here\n"
     ]
    }
   ],
   "source": [
    "import os\n",
    "from dotenv import load_dotenv, find_dotenv; load_dotenv(find_dotenv())\n"
   ]
  },
  {
   "cell_type": "code",
   "execution_count": 8,
   "id": "58ddac70",
   "metadata": {},
   "outputs": [
    {
     "name": "stdout",
     "output_type": "stream",
     "text": [
      "Weaviate Key: 76320a90-53d8-42bc-b41d-678647c6672e\n",
      "Cohere Key: your_cohere_key_here\n"
     ]
    }
   ],
   "source": [
    "\n",
    "# Load .env file\n",
    "load_dotenv(override=True)\n",
    "\n",
    "\n",
    "# Access environment variables\n",
    "weaviate_api_key = os.getenv(\"WEAVIATE_API_KEY\")\n",
    "cohere_api_key = os.getenv(\"COHERE_API_KEY\")\n",
    "\n",
    "print(\"Weaviate Key:\", weaviate_api_key)\n",
    "print(\"Cohere Key:\", cohere_api_key)"
   ]
  },
  {
   "cell_type": "code",
   "execution_count": null,
   "id": "0eb036ca",
   "metadata": {},
   "outputs": [],
   "source": [
    "import weaviate\n",
    "auth_config = weaviate.auth.AuthApiKey(\n",
    "    api_key=os.environ['WEAVIATE_API_KEY'])"
   ]
  },
  {
   "cell_type": "code",
   "execution_count": 12,
   "id": "77f3c8ea",
   "metadata": {},
   "outputs": [
    {
     "ename": "KeyError",
     "evalue": "'WEAVIATE_API_URL'",
     "output_type": "error",
     "traceback": [
      "\u001b[31m---------------------------------------------------------------------------\u001b[39m",
      "\u001b[31mKeyError\u001b[39m                                  Traceback (most recent call last)",
      "\u001b[36mCell\u001b[39m\u001b[36m \u001b[39m\u001b[32mIn[12]\u001b[39m\u001b[32m, line 2\u001b[39m\n\u001b[32m      1\u001b[39m client = weaviate.Client(\n\u001b[32m----> \u001b[39m\u001b[32m2\u001b[39m     url=\u001b[43mos\u001b[49m\u001b[43m.\u001b[49m\u001b[43menviron\u001b[49m\u001b[43m[\u001b[49m\u001b[33;43m'\u001b[39;49m\u001b[33;43mWEAVIATE_API_URL\u001b[39;49m\u001b[33;43m'\u001b[39;49m\u001b[43m]\u001b[49m,\n\u001b[32m      3\u001b[39m     auth_client_secret=auth_config,\n\u001b[32m      4\u001b[39m     additional_headers={\n\u001b[32m      5\u001b[39m         \u001b[33m\"\u001b[39m\u001b[33mX-Cohere-Api-Key\u001b[39m\u001b[33m\"\u001b[39m: os.environ[\u001b[33m'\u001b[39m\u001b[33mCOHERE_API_KEY\u001b[39m\u001b[33m'\u001b[39m],\n\u001b[32m      6\u001b[39m     }\n\u001b[32m      7\u001b[39m )\n",
      "\u001b[36mFile \u001b[39m\u001b[32m~\\AppData\\Local\\Programs\\Python\\Python312\\Lib\\os.py:714\u001b[39m, in \u001b[36m_Environ.__getitem__\u001b[39m\u001b[34m(self, key)\u001b[39m\n\u001b[32m    711\u001b[39m     value = \u001b[38;5;28mself\u001b[39m._data[\u001b[38;5;28mself\u001b[39m.encodekey(key)]\n\u001b[32m    712\u001b[39m \u001b[38;5;28;01mexcept\u001b[39;00m \u001b[38;5;167;01mKeyError\u001b[39;00m:\n\u001b[32m    713\u001b[39m     \u001b[38;5;66;03m# raise KeyError with the original key value\u001b[39;00m\n\u001b[32m--> \u001b[39m\u001b[32m714\u001b[39m     \u001b[38;5;28;01mraise\u001b[39;00m \u001b[38;5;167;01mKeyError\u001b[39;00m(key) \u001b[38;5;28;01mfrom\u001b[39;00m\u001b[38;5;250m \u001b[39m\u001b[38;5;28;01mNone\u001b[39;00m\n\u001b[32m    715\u001b[39m \u001b[38;5;28;01mreturn\u001b[39;00m \u001b[38;5;28mself\u001b[39m.decodevalue(value)\n",
      "\u001b[31mKeyError\u001b[39m: 'WEAVIATE_API_URL'"
     ]
    }
   ],
   "source": [
    "client = weaviate.Client(\n",
    "    url=os.environ['WEAVIATE_API_URL'],\n",
    "    auth_client_secret=auth_config,\n",
    "    additional_headers={\n",
    "        \"X-Cohere-Api-Key\": os.environ['COHERE_API_KEY'],\n",
    "    }\n",
    ")"
   ]
  },
  {
   "cell_type": "code",
   "execution_count": null,
   "id": "cc07fb7d",
   "metadata": {},
   "outputs": [],
   "source": []
  }
 ],
 "metadata": {
  "kernelspec": {
   "display_name": "Python (keyword_env)",
   "language": "python",
   "name": "keyword_env"
  },
  "language_info": {
   "codemirror_mode": {
    "name": "ipython",
    "version": 3
   },
   "file_extension": ".py",
   "mimetype": "text/x-python",
   "name": "python",
   "nbconvert_exporter": "python",
   "pygments_lexer": "ipython3",
   "version": "3.12.5"
  }
 },
 "nbformat": 4,
 "nbformat_minor": 5
}
